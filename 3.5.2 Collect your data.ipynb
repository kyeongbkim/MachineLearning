{
 "cells": [
  {
   "cell_type": "markdown",
   "id": "7d4a1238-cd5e-4309-bbb8-0357da595be0",
   "metadata": {
    "tags": []
   },
   "source": [
    "## Submission instructions:\n",
    "\n",
    "For Step 2 of your Capstone, submit a link to your GitHub repository that contains the following:\n",
    "\n",
    "- Three datasets that you have explored — you don't need to link the entire dataset.\n",
    "- Code for how you collected the data, if applicable\n",
    "- The actual dataset — If your dataset is small enough to fit in a CSV, then include it in the repository. If it’s a big dataset or has a lot of binary files (graphics, audio), consider using the Git Large File Storage extension."
   ]
  },
  {
   "cell_type": "code",
   "execution_count": null,
   "id": "4255b59b-6379-4948-856e-d2858d381d91",
   "metadata": {},
   "outputs": [],
   "source": [
    "import os\n",
    "\n",
    "# Install kaggle package\n",
    "!pip install kaggle"
   ]
  },
  {
   "cell_type": "code",
   "execution_count": null,
   "id": "6d60bc02-b036-4650-a477-24de200f62e6",
   "metadata": {},
   "outputs": [],
   "source": [
    "# Dataset 1 - Flickr Image Dataset\n",
    "# https://www.kaggle.com/hsankesara/flickr-image-dataset\n",
    "\n",
    "# Download dataset\n",
    "dataset_dir = 'data/Flickr30k_dataset'\n",
    "!kaggle datasets download -d hsankesara/flickr-image-dataset -p $dataset_dir\n",
    "\n",
    "# Unzip dataset\n",
    "if not os.path.exists(dataset_dir + '/flickr30k_images'):\n",
    "    !(cd $dataset_dir; unzip -q flickr-image-dataset.zip)\n",
    "    print('Unzip dataset completed')\n",
    "else:\n",
    "    print('Dataset already exists')"
   ]
  },
  {
   "cell_type": "code",
   "execution_count": null,
   "id": "de65c046-13f0-4bf4-861f-add91bcf2b2b",
   "metadata": {},
   "outputs": [],
   "source": [
    "# Dataset 2 - Hand Writing Recognition\n",
    "# https://www.kaggle.com/datasets/landlord/handwriting-recognition\n",
    "\n",
    "# Download dataset\n",
    "dataset_dir = 'data/HandWriting_dataset'\n",
    "!kaggle datasets download -d landlord/handwriting-recognition -p $dataset_dir\n",
    "\n",
    "# Unzip dataset\n",
    "if not os.path.exists(dataset_dir + '/written_name_test_v2.csv'):\n",
    "    !(cd $dataset_dir; unzip -q handwriting-recognition.zip)\n",
    "    print('Unzip dataset completed')\n",
    "else:\n",
    "    print('Dataset already exists')"
   ]
  },
  {
   "cell_type": "code",
   "execution_count": null,
   "id": "2c0f751d-ec2c-4e53-88ae-657d1afc38a1",
   "metadata": {},
   "outputs": [],
   "source": [
    "# Dataset 3 - Women's E-Commerce Clothing Reviews\n",
    "# https://www.kaggle.com/datasets/nicapotato/womens-ecommerce-clothing-reviews\n",
    "\n",
    "# Download dataset\n",
    "dataset_dir = 'data/WomensEcommerceReviews_dataset'\n",
    "!kaggle datasets download -d nicapotato/womens-ecommerce-clothing-reviews -p $dataset_dir\n",
    "\n",
    "# Unzip dataset\n",
    "if not os.path.exists(dataset_dir + '/Womens Clothing E-Commerce Reviews.csv'):\n",
    "    !(cd $dataset_dir; unzip -q womens-ecommerce-clothing-reviews.zip)\n",
    "    print('Unzip dataset completed')\n",
    "else:\n",
    "    print('Dataset already exists')"
   ]
  },
  {
   "cell_type": "code",
   "execution_count": null,
   "id": "8f2f566b-988b-46f2-a730-7a2479acb1bf",
   "metadata": {},
   "outputs": [],
   "source": []
  }
 ],
 "metadata": {
  "kernelspec": {
   "display_name": "conda-py39-tf",
   "language": "python",
   "name": "conda-py39-tf"
  },
  "language_info": {
   "codemirror_mode": {
    "name": "ipython",
    "version": 3
   },
   "file_extension": ".py",
   "mimetype": "text/x-python",
   "name": "python",
   "nbconvert_exporter": "python",
   "pygments_lexer": "ipython3",
   "version": "3.9.12"
  }
 },
 "nbformat": 4,
 "nbformat_minor": 5
}
